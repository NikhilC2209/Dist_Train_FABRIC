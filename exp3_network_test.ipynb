{
 "cells": [
  {
   "cell_type": "code",
   "execution_count": null,
   "id": "e76044fa",
   "metadata": {},
   "outputs": [],
   "source": [
    "from fabrictestbed_extensions.fablib.fablib import FablibManager as fablib_manager\n",
    "\n",
    "fablib = fablib_manager()\n",
    "                         \n",
    "fablib.show_config();"
   ]
  },
  {
   "cell_type": "code",
   "execution_count": null,
   "id": "23ede26f",
   "metadata": {},
   "outputs": [],
   "source": [
    "from ipaddress import ip_address, IPv4Address, IPv6Address, IPv4Network, IPv6Network\n",
    "import ipaddress\n",
    "\n",
    "network1_name = 'net1'\n",
    "net1 = slice.add_l2network(name=network1_name, subnet=IPv4Network(\"192.168.1.0/24\"))"
   ]
  },
  {
   "cell_type": "code",
   "execution_count": null,
   "id": "6e71168a",
   "metadata": {},
   "outputs": [],
   "source": [
    "slice_name='Dist_Train'\n",
    "\n",
    "slice = fablib.get_slice(name=slice_name)"
   ]
  },
  {
   "cell_type": "markdown",
   "id": "ee9058a0",
   "metadata": {},
   "source": [
    "## ADD L2 NETWORK AND NIC's"
   ]
  },
  {
   "cell_type": "code",
   "execution_count": null,
   "id": "6687974a",
   "metadata": {},
   "outputs": [],
   "source": [
    "node = slice.get_node('Node1')\n",
    "iface1 = node.add_component(model='NIC_Basic', name='nic1').get_interfaces()[0]\n",
    "iface1.set_mode('auto')\n",
    "net1.add_interface(iface1)\n",
    "\n",
    "inter_node1 = slice.get_node('Inter_Node1')\n",
    "iface2 = inter_node1.add_component(model='NIC_Basic', name='nic2').get_interfaces()[0]\n",
    "iface2.set_mode('auto')\n",
    "net1.add_interface(iface2)\n",
    "\n",
    "slice.submit()"
   ]
  },
  {
   "cell_type": "code",
   "execution_count": null,
   "id": "af733bac",
   "metadata": {},
   "outputs": [],
   "source": [
    "output = slice.list_interfaces()"
   ]
  },
  {
   "cell_type": "code",
   "execution_count": null,
   "id": "aaedf96c",
   "metadata": {},
   "outputs": [],
   "source": [
    "node1 = slice.get_node(name='Node1')\n",
    "inter_node1 = slice.get_node(name='Inter_Node1')\n",
    "\n",
    "node_addr = node1.get_interface(network_name=network1_name).get_ip_addr()\n",
    "\n",
    "print(node_addr)\n",
    "\n",
    "stdout, stderr = inter_node1.execute(f'ping -c 5 {node_addr}')"
   ]
  },
  {
   "cell_type": "code",
   "execution_count": null,
   "id": "cf73dba3",
   "metadata": {},
   "outputs": [],
   "source": []
  }
 ],
 "metadata": {
  "kernelspec": {
   "display_name": "Python 3",
   "language": "python",
   "name": "python3"
  },
  "language_info": {
   "codemirror_mode": {
    "name": "ipython",
    "version": 3
   },
   "file_extension": ".py",
   "mimetype": "text/x-python",
   "name": "python",
   "nbconvert_exporter": "python",
   "pygments_lexer": "ipython3",
   "version": "3.8.8"
  }
 },
 "nbformat": 4,
 "nbformat_minor": 5
}
